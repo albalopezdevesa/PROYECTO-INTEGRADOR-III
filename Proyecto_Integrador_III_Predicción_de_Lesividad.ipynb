{
  "nbformat": 4,
  "nbformat_minor": 0,
  "metadata": {
    "colab": {
      "provenance": [],
      "include_colab_link": true
    },
    "kernelspec": {
      "name": "python3",
      "display_name": "Python 3"
    },
    "language_info": {
      "name": "python"
    }
  },
  "cells": [
    {
      "cell_type": "markdown",
      "metadata": {
        "id": "view-in-github",
        "colab_type": "text"
      },
      "source": [
        "<a href=\"https://colab.research.google.com/github/albalopezdevesa/PROYECTO-INTEGRADOR-III/blob/main/Proyecto_Integrador_III_Predicci%C3%B3n_de_Lesividad.ipynb\" target=\"_parent\"><img src=\"https://colab.research.google.com/assets/colab-badge.svg\" alt=\"Open In Colab\"/></a>"
      ]
    },
    {
      "cell_type": "markdown",
      "source": [
        "# **Predicción de la lesividad**"
      ],
      "metadata": {
        "id": "TxCQfgeebWWl"
      }
    },
    {
      "cell_type": "code",
      "source": [
        "# Instalar imbalanced-learn\n",
        "!pip install imbalanced-learn\n"
      ],
      "metadata": {
        "colab": {
          "base_uri": "https://localhost:8080/"
        },
        "id": "zyRbgRK1ZCbo",
        "outputId": "7e40517a-821a-48ea-cd67-1dae715d5a7b"
      },
      "execution_count": null,
      "outputs": [
        {
          "output_type": "stream",
          "name": "stdout",
          "text": [
            "Requirement already satisfied: imbalanced-learn in /usr/local/lib/python3.10/dist-packages (0.10.1)\n",
            "Requirement already satisfied: numpy>=1.17.3 in /usr/local/lib/python3.10/dist-packages (from imbalanced-learn) (1.25.2)\n",
            "Requirement already satisfied: scipy>=1.3.2 in /usr/local/lib/python3.10/dist-packages (from imbalanced-learn) (1.11.4)\n",
            "Requirement already satisfied: scikit-learn>=1.0.2 in /usr/local/lib/python3.10/dist-packages (from imbalanced-learn) (1.2.2)\n",
            "Requirement already satisfied: joblib>=1.1.1 in /usr/local/lib/python3.10/dist-packages (from imbalanced-learn) (1.4.2)\n",
            "Requirement already satisfied: threadpoolctl>=2.0.0 in /usr/local/lib/python3.10/dist-packages (from imbalanced-learn) (3.5.0)\n"
          ]
        }
      ]
    },
    {
      "cell_type": "code",
      "source": [
        "!pip install scikit-learn"
      ],
      "metadata": {
        "colab": {
          "base_uri": "https://localhost:8080/"
        },
        "id": "8wr8exHfe_Kd",
        "outputId": "57d1cded-6bb4-476a-da40-c032137962aa"
      },
      "execution_count": null,
      "outputs": [
        {
          "output_type": "stream",
          "name": "stdout",
          "text": [
            "Requirement already satisfied: scikit-learn in /usr/local/lib/python3.10/dist-packages (1.2.2)\n",
            "Requirement already satisfied: numpy>=1.17.3 in /usr/local/lib/python3.10/dist-packages (from scikit-learn) (1.25.2)\n",
            "Requirement already satisfied: scipy>=1.3.2 in /usr/local/lib/python3.10/dist-packages (from scikit-learn) (1.11.4)\n",
            "Requirement already satisfied: joblib>=1.1.1 in /usr/local/lib/python3.10/dist-packages (from scikit-learn) (1.4.2)\n",
            "Requirement already satisfied: threadpoolctl>=2.0.0 in /usr/local/lib/python3.10/dist-packages (from scikit-learn) (3.5.0)\n"
          ]
        }
      ]
    },
    {
      "cell_type": "code",
      "source": [
        "# Importar bibliotecas necesarias\n",
        "import pandas as pd\n",
        "import numpy as np\n",
        "from sklearn.preprocessing import OneHotEncoder, LabelEncoder\n",
        "from sklearn.feature_selection import SelectFromModel\n",
        "from sklearn.utils.class_weight import compute_class_weight\n",
        "from sklearn.preprocessing import LabelEncoder, OneHotEncoder\n",
        "from sklearn.pipeline import Pipeline\n",
        "from sklearn.compose import ColumnTransformer\n",
        "from imblearn.over_sampling import RandomOverSampler\n",
        "from sklearn.model_selection import train_test_split\n",
        "from sklearn.linear_model import LogisticRegression\n",
        "from sklearn.metrics import classification_report\n",
        "from imblearn.over_sampling import SMOTE\n",
        "from imblearn.under_sampling import RandomUnderSampler\n",
        "from imblearn.pipeline import Pipeline"
      ],
      "metadata": {
        "id": "Y13zOygY7BKD"
      },
      "execution_count": null,
      "outputs": []
    },
    {
      "cell_type": "markdown",
      "source": [
        "###**Regresión Multinomial**"
      ],
      "metadata": {
        "id": "L-jZtw5bcvcI"
      }
    },
    {
      "cell_type": "markdown",
      "source": [
        "Predicción utilizando RandomOverSampler con clases desbalanceadas"
      ],
      "metadata": {
        "id": "b71JB8ehbhm8"
      }
    },
    {
      "cell_type": "code",
      "source": [
        "# Cargar los datos\n",
        "datos = pd.read_csv('bbdd_limpia.csv')\n",
        "\n",
        "# Preprocesamiento de los datos\n",
        "ninguna = ['Sin asistencia sanitaria','Asistencia sanitaria sólo en el lugar del accidente']\n",
        "leve = ['Ingreso inferior o igual a 24 horas','Atención en urgencias sin posterior ingreso','Asistencia sanitaria inmediata en centro de salud o mutua']\n",
        "grave = ['Ingreso superior a 24 horas','Asistencia sanitaria ambulatoria con posterioridad','Fallecido 24 horas']\n",
        "\n",
        "datos['lesividad'] = datos['lesividad'].replace(ninguna, 'ninguna')\n",
        "datos['lesividad'] = datos['lesividad'].replace(leve, 'leve')\n",
        "datos['lesividad'] = datos['lesividad'].replace(grave, 'grave')\n",
        "\n",
        "datos = datos.dropna()\n",
        "datos = datos[datos['lesividad'] != 'Se desconoce']\n",
        "\n",
        "# Dividir los datos en características (X) y variable objetivo (y)\n",
        "datos = datos.drop(['num_acompañantes','fecha','hora','coordenada_x_utm','coordenada_y_utm','fecha_hora'], axis=1)\n",
        "X = datos.drop('lesividad', axis=1)\n",
        "y = datos['lesividad']\n",
        "\n",
        "# Codificar la variable objetivo 'lesividad' a valores numéricos\n",
        "label_encoder = LabelEncoder()\n",
        "y_encoded = label_encoder.fit_transform(y)\n",
        "\n",
        "# Dividir los datos en conjuntos de entrenamiento y prueba\n",
        "X_train, X_test, y_train, y_test = train_test_split(X, y_encoded, test_size=0.2, random_state=42)\n",
        "\n",
        "# Calcular las frecuencias de cada clase en y_train_encoded\n",
        "classes = np.unique(y_train)\n",
        "class_counts = np.bincount(y_train)\n",
        "\n",
        "# Calcular los pesos de clase inversamente proporcionales a las frecuencias\n",
        "total_samples = len(y_train)\n",
        "class_weights = total_samples / (len(classes) * class_counts)\n",
        "\n",
        "# Crear un diccionario de pesos de clase para usar en el modelo\n",
        "class_weight = {i: class_weights[i] for i in range(len(classes))}\n",
        "\n",
        "# Definir las transformaciones para las variables categóricas\n",
        "categorical_features = ['tipo_vehiculo', 'sexo', 'positiva_alcohol', 'positiva_droga', 'distrito', 'hora_categoria', 'dia', 'festivo', 'rango_edad', 'estado_meteorológico']\n",
        "categorical_transformer = Pipeline(steps=[\n",
        "    ('onehot', OneHotEncoder(handle_unknown='ignore'))\n",
        "])\n",
        "\n",
        "# Combinar las transformaciones\n",
        "preprocessor = ColumnTransformer(\n",
        "    transformers=[\n",
        "        ('cat', categorical_transformer, categorical_features)\n",
        "    ])\n",
        "\n",
        "# Crear un RandomOverSampler\n",
        "oversampler = RandomOverSampler(random_state=42)\n",
        "\n",
        "# Aplicar el RandomOverSampler a los datos de entrenamiento\n",
        "X_train_resampled, y_train_resampled = oversampler.fit_resample(X_train, y_train)\n",
        "\n",
        "# Calcular las frecuencias de cada clase en y_train_resampled\n",
        "class_counts_resampled = np.bincount(y_train_resampled)\n",
        "\n",
        "# Calcular los pesos de clase inversamente proporcionales a las frecuencias\n",
        "total_samples_resampled = len(y_train_resampled)\n",
        "class_weights_resampled = total_samples_resampled / (len(classes) * class_counts_resampled)\n",
        "\n",
        "# Crear un diccionario de pesos de clase para usar en el modelo\n",
        "class_weight_resampled = {i: class_weights_resampled[i] for i in range(len(classes))}\n",
        "\n",
        "# Definir el modelo de regresión logística multinomial con pesos de clase\n",
        "model_resampled = Pipeline(steps=[('preprocessor', preprocessor),\n",
        "                                  ('classifier', LogisticRegression(multi_class='multinomial', solver='lbfgs', class_weight=class_weight_resampled))])\n",
        "\n",
        "# Entrenar el modelo con los datos resampleados\n",
        "model_resampled.fit(X_train_resampled, y_train_resampled)\n",
        "\n",
        "# Predecir sobre el conjunto de prueba\n",
        "y_pred_resampled = model_resampled.predict(X_test)\n",
        "\n",
        "# Imprimir el reporte de clasificación\n",
        "print(classification_report(y_test, y_pred_resampled))\n"
      ],
      "metadata": {
        "colab": {
          "base_uri": "https://localhost:8080/"
        },
        "id": "UTXSVF6riSCu",
        "outputId": "d230d3c7-33f3-4d80-c42a-457bc8a77d85"
      },
      "execution_count": null,
      "outputs": [
        {
          "output_type": "stream",
          "name": "stderr",
          "text": [
            "/usr/local/lib/python3.10/dist-packages/sklearn/linear_model/_logistic.py:458: ConvergenceWarning: lbfgs failed to converge (status=1):\n",
            "STOP: TOTAL NO. of ITERATIONS REACHED LIMIT.\n",
            "\n",
            "Increase the number of iterations (max_iter) or scale the data as shown in:\n",
            "    https://scikit-learn.org/stable/modules/preprocessing.html\n",
            "Please also refer to the documentation for alternative solver options:\n",
            "    https://scikit-learn.org/stable/modules/linear_model.html#logistic-regression\n",
            "  n_iter_i = _check_optimize_result(\n"
          ]
        },
        {
          "output_type": "stream",
          "name": "stdout",
          "text": [
            "              precision    recall  f1-score   support\n",
            "\n",
            "           0       0.15      0.52      0.23       953\n",
            "           1       0.39      0.37      0.38      3436\n",
            "           2       0.92      0.79      0.85     15147\n",
            "\n",
            "    accuracy                           0.70     19536\n",
            "   macro avg       0.49      0.56      0.49     19536\n",
            "weighted avg       0.79      0.70      0.74     19536\n",
            "\n"
          ]
        }
      ]
    },
    {
      "cell_type": "markdown",
      "source": [
        "Vemos que predice muy bien la clase con más registros pero no las otras dos que tienen menos registros. Está afectando mucho el desbalanceo."
      ],
      "metadata": {
        "id": "AHiUGHCybn23"
      }
    },
    {
      "cell_type": "code",
      "source": [
        "# Cargar los datos\n",
        "data = pd.read_csv('bbdd_limpia.csv')"
      ],
      "metadata": {
        "id": "xcppISsfZKDb"
      },
      "execution_count": null,
      "outputs": []
    },
    {
      "cell_type": "code",
      "source": [
        "data = data.dropna()"
      ],
      "metadata": {
        "id": "q92sZ7CRcz2j"
      },
      "execution_count": null,
      "outputs": []
    },
    {
      "cell_type": "code",
      "source": [
        "# Mapear categorías a valores más generales\n",
        "mapeo_lesividad = {\n",
        "    'Sin asistencia sanitaria': 'ninguna',\n",
        "    'Asistencia sanitaria sólo en el lugar del accidente': 'ninguna',\n",
        "    'Ingreso inferior o igual a 24 horas': 'leve',\n",
        "    'Atención en urgencias sin posterior ingreso': 'leve',\n",
        "    'Asistencia sanitaria inmediata en centro de salud o mutua': 'leve',\n",
        "    'Ingreso superior a 24 horas': 'grave',\n",
        "    'Asistencia sanitaria ambulatoria con posterioridad': 'grave',\n",
        "    'Fallecido 24 horas': 'grave'\n",
        "}\n",
        "\n",
        "data['lesividad'] = data['lesividad'].map(mapeo_lesividad)\n",
        "\n",
        "# Eliminar registros 'Se desconoce'\n",
        "data = data[data['lesividad'] != 'Se desconoce']\n",
        "\n",
        "# Eliminar columnas no deseadas\n",
        "data = data.drop(['num_acompañantes','tipo_persona', 'fecha', 'hora', 'coordenada_x_utm', 'coordenada_y_utm', 'fecha_hora', 'dia'], axis=1)\n",
        "\n"
      ],
      "metadata": {
        "id": "05Q8O3rjaaVZ",
        "colab": {
          "base_uri": "https://localhost:8080/"
        },
        "outputId": "c80ef791-217e-4183-df25-ffef814cfc87"
      },
      "execution_count": null,
      "outputs": [
        {
          "output_type": "stream",
          "name": "stderr",
          "text": [
            "<ipython-input-71-ab36592be232>:13: SettingWithCopyWarning: \n",
            "A value is trying to be set on a copy of a slice from a DataFrame.\n",
            "Try using .loc[row_indexer,col_indexer] = value instead\n",
            "\n",
            "See the caveats in the documentation: https://pandas.pydata.org/pandas-docs/stable/user_guide/indexing.html#returning-a-view-versus-a-copy\n",
            "  data['lesividad'] = data['lesividad'].map(mapeo_lesividad)\n"
          ]
        }
      ]
    },
    {
      "cell_type": "code",
      "source": [
        "data.info()"
      ],
      "metadata": {
        "colab": {
          "base_uri": "https://localhost:8080/"
        },
        "id": "sG6GlA6oPGCn",
        "outputId": "fdd4aca5-3057-4a8b-ebe4-00c9343b67d8"
      },
      "execution_count": null,
      "outputs": [
        {
          "output_type": "stream",
          "name": "stdout",
          "text": [
            "<class 'pandas.core.frame.DataFrame'>\n",
            "Index: 97686 entries, 7 to 183007\n",
            "Data columns (total 11 columns):\n",
            " #   Column                Non-Null Count  Dtype  \n",
            "---  ------                --------------  -----  \n",
            " 0   distrito              97686 non-null  object \n",
            " 1   estado_meteorológico  97686 non-null  object \n",
            " 2   tipo_vehiculo         97686 non-null  object \n",
            " 3   rango_edad            97686 non-null  object \n",
            " 4   sexo                  97686 non-null  object \n",
            " 5   lesividad             97677 non-null  object \n",
            " 6   positiva_alcohol      97686 non-null  object \n",
            " 7   positiva_droga        97686 non-null  float64\n",
            " 8   hora_categoria        97686 non-null  object \n",
            " 9   num_dia_semana        97686 non-null  int64  \n",
            " 10  festivo               97686 non-null  object \n",
            "dtypes: float64(1), int64(1), object(9)\n",
            "memory usage: 8.9+ MB\n"
          ]
        }
      ]
    },
    {
      "cell_type": "code",
      "source": [
        "print(data['lesividad'].unique())"
      ],
      "metadata": {
        "colab": {
          "base_uri": "https://localhost:8080/"
        },
        "id": "yBlPCFi-UTRw",
        "outputId": "817e3876-0c4b-43ce-86ca-1bbc92c67989"
      },
      "execution_count": null,
      "outputs": [
        {
          "output_type": "stream",
          "name": "stdout",
          "text": [
            "['ninguna' 'leve' 'grave' nan]\n"
          ]
        }
      ]
    },
    {
      "cell_type": "code",
      "source": [
        "data = data[(data['sexo'] != 'Desconocido') &\n",
        "              (data['rango_edad'] != 'Desconocido') &\n",
        "              (data['tipo_vehiculo'] != 'Desconocido')]"
      ],
      "metadata": {
        "id": "zXcBF0HHPcpq"
      },
      "execution_count": null,
      "outputs": []
    },
    {
      "cell_type": "code",
      "source": [
        "# Eliminar los valores NaN de la variable 'lesividad'\n",
        "data = data.dropna(subset=['lesividad'])\n",
        "\n",
        "# Imprimir los nombres de las categorías de 'lesividad'\n",
        "print(data['lesividad'].unique())\n"
      ],
      "metadata": {
        "colab": {
          "base_uri": "https://localhost:8080/"
        },
        "id": "EbdBZPz6VQ41",
        "outputId": "a0cad417-1c44-4d4d-ecff-37a0d47223b3"
      },
      "execution_count": null,
      "outputs": [
        {
          "output_type": "stream",
          "name": "stdout",
          "text": [
            "['ninguna' 'leve' 'grave']\n"
          ]
        }
      ]
    },
    {
      "cell_type": "markdown",
      "source": [
        "Vamos a probar a predecir la lesividad con otro enfoque. Se utiliza RandomUnderSampler."
      ],
      "metadata": {
        "id": "hyh6ofytcK3f"
      }
    },
    {
      "cell_type": "code",
      "source": [
        "# Copiar el DataFrame original para mantener una copia sin modificar\n",
        "datos_encoded = datos.copy()\n",
        "\n",
        "# Obtener todas las columnas categóricas excepto 'lesividad'\n",
        "columnas_categoricas = datos_encoded.select_dtypes(include=['object']).columns.tolist()\n",
        "\n",
        "# Iterar sobre cada columna categórica y aplicar LabelEncoder\n",
        "label_encoders = {}\n",
        "for columna in columnas_categoricas:\n",
        "    label_encoder = LabelEncoder()\n",
        "    datos_encoded[columna] = label_encoder.fit_transform(datos_encoded[columna])\n",
        "    label_encoders[columna] = label_encoder\n"
      ],
      "metadata": {
        "id": "zkIenweSRYfv"
      },
      "execution_count": null,
      "outputs": []
    },
    {
      "cell_type": "code",
      "source": [
        "datos_encoded.info()"
      ],
      "metadata": {
        "colab": {
          "base_uri": "https://localhost:8080/"
        },
        "id": "I3av1zLVRcVD",
        "outputId": "0f10b8aa-9c41-4e28-d6c7-bf272caf9785"
      },
      "execution_count": null,
      "outputs": [
        {
          "output_type": "stream",
          "name": "stdout",
          "text": [
            "<class 'pandas.core.frame.DataFrame'>\n",
            "Index: 97677 entries, 7 to 183007\n",
            "Data columns (total 13 columns):\n",
            " #   Column                Non-Null Count  Dtype  \n",
            "---  ------                --------------  -----  \n",
            " 0   distrito              97677 non-null  int64  \n",
            " 1   estado_meteorológico  97677 non-null  int64  \n",
            " 2   tipo_vehiculo         97677 non-null  int64  \n",
            " 3   tipo_persona          97677 non-null  int64  \n",
            " 4   rango_edad            97677 non-null  int64  \n",
            " 5   sexo                  97677 non-null  int64  \n",
            " 6   lesividad             97677 non-null  int64  \n",
            " 7   positiva_alcohol      97677 non-null  int64  \n",
            " 8   positiva_droga        97677 non-null  float64\n",
            " 9   hora_categoria        97677 non-null  int64  \n",
            " 10  num_dia_semana        97677 non-null  int64  \n",
            " 11  dia                   97677 non-null  int64  \n",
            " 12  festivo               97677 non-null  int64  \n",
            "dtypes: float64(1), int64(12)\n",
            "memory usage: 10.4 MB\n"
          ]
        }
      ]
    },
    {
      "cell_type": "code",
      "source": [
        "# Separar las características (X) y la variable objetivo (y)\n",
        "X = datos_encoded.drop('lesividad', axis=1)\n",
        "y = datos_encoded['lesividad']\n"
      ],
      "metadata": {
        "id": "0ZRd-zHJXFl5"
      },
      "execution_count": null,
      "outputs": []
    },
    {
      "cell_type": "code",
      "source": [
        "# Dividir los datos en conjuntos de entrenamiento y prueba\n",
        "X_train, X_test, y_train, y_test = train_test_split(X, y, test_size=0.2, random_state=42)\n",
        "\n",
        "# Crear un pipeline que combine SMOTE y RandomUnderSampler\n",
        "pipeline = Pipeline([\n",
        "    ('over', SMOTE(random_state=42)),\n",
        "    ('under', RandomUnderSampler(random_state=42))\n",
        "])\n",
        "\n",
        "# Aplicar el pipeline al conjunto de entrenamiento\n",
        "X_train_resampled, y_train_resampled = pipeline.fit_resample(X_train, y_train)\n",
        "\n",
        "# Definir el modelo de regresión logística multinomial\n",
        "model_resampled = LogisticRegression(multi_class='multinomial', solver='lbfgs')\n",
        "\n",
        "# Entrenar el modelo con los datos resampleados\n",
        "model_resampled.fit(X_train_resampled, y_train_resampled)\n",
        "\n",
        "# Predecir sobre el conjunto de prueba\n",
        "y_pred_resampled = model_resampled.predict(X_test)\n",
        "\n",
        "# Imprimir el reporte de clasificación\n",
        "print(classification_report(y_test, y_pred_resampled))"
      ],
      "metadata": {
        "colab": {
          "base_uri": "https://localhost:8080/"
        },
        "id": "wo_h2l97w5IR",
        "outputId": "f4283d85-1042-485c-aff4-15b1b1226867"
      },
      "execution_count": null,
      "outputs": [
        {
          "output_type": "stream",
          "name": "stdout",
          "text": [
            "              precision    recall  f1-score   support\n",
            "\n",
            "           0       0.11      0.48      0.18       953\n",
            "           1       0.29      0.25      0.27      3436\n",
            "           2       0.87      0.73      0.79     15147\n",
            "\n",
            "    accuracy                           0.63     19536\n",
            "   macro avg       0.43      0.49      0.42     19536\n",
            "weighted avg       0.74      0.63      0.67     19536\n",
            "\n"
          ]
        },
        {
          "output_type": "stream",
          "name": "stderr",
          "text": [
            "/usr/local/lib/python3.10/dist-packages/sklearn/linear_model/_logistic.py:458: ConvergenceWarning: lbfgs failed to converge (status=1):\n",
            "STOP: TOTAL NO. of ITERATIONS REACHED LIMIT.\n",
            "\n",
            "Increase the number of iterations (max_iter) or scale the data as shown in:\n",
            "    https://scikit-learn.org/stable/modules/preprocessing.html\n",
            "Please also refer to the documentation for alternative solver options:\n",
            "    https://scikit-learn.org/stable/modules/linear_model.html#logistic-regression\n",
            "  n_iter_i = _check_optimize_result(\n"
          ]
        }
      ]
    },
    {
      "cell_type": "markdown",
      "source": [
        "Vemos que la regresión multinomial con RandomUnderSampler da pésimos resultados."
      ],
      "metadata": {
        "id": "6ewQrmD5cR1O"
      }
    },
    {
      "cell_type": "markdown",
      "source": [
        "### **Balanceo de clases con SMOTE**"
      ],
      "metadata": {
        "id": "byVSZKo2cepg"
      }
    },
    {
      "cell_type": "code",
      "source": [
        "import pandas as pd\n",
        "import numpy as np\n",
        "import matplotlib.pyplot as plt\n",
        "from imblearn.over_sampling import SMOTE\n",
        "# Crear un SMOTE\n",
        "smote = SMOTE(random_state=42)\n",
        "\n",
        "# Aplicar SMOTE a los datos de entrenamiento\n",
        "X_resampled, y_resampled = smote.fit_resample(X, y)\n",
        "\n",
        "# Plotting\n",
        "plt.figure(figsize=(12, 6))\n",
        "\n",
        "# Histograma antes de balancear\n",
        "plt.subplot(1, 2, 1)\n",
        "plt.hist(y, bins=len(np.unique(y)), color='skyblue', edgecolor='black')\n",
        "plt.title('Histograma de Lesividad antes de balancear')\n",
        "plt.xlabel('Clases')\n",
        "plt.ylabel('Frecuencia')\n",
        "\n",
        "# Histograma después de balancear con SMOTE\n",
        "plt.subplot(1, 2, 2)\n",
        "plt.hist(y_resampled, bins=len(np.unique(y_resampled)), color='lightgreen', edgecolor='black')\n",
        "plt.title('Histograma de Lesividad después de balancear con SMOTE')\n",
        "plt.xlabel('Clases')\n",
        "plt.ylabel('Frecuencia')\n",
        "\n",
        "\n",
        "# Guardar la gráfica como imagen\n",
        "plt.savefig('smote.png')\n",
        "plt.show()\n",
        "\n",
        "# Descargar la imagen en Google Colab\n",
        "from google.colab import files\n",
        "files.download('smote.png')\n",
        "\n"
      ],
      "metadata": {
        "colab": {
          "base_uri": "https://localhost:8080/",
          "height": 534
        },
        "id": "CHMjr9W_uIzk",
        "outputId": "1a26c4ab-b8d1-4059-f8fb-54c00c2f6af1"
      },
      "execution_count": null,
      "outputs": [
        {
          "output_type": "display_data",
          "data": {
            "text/plain": [
              "<Figure size 1200x600 with 2 Axes>"
            ],
            "image/png": "[encoded data removed]"
          },
          "metadata": {}
        },
        {
          "output_type": "display_data",
          "data": {
            "text/plain": [
              "<IPython.core.display.Javascript object>"
            ],
            "application/javascript": [
              "\n",
              "    async function download(id, filename, size) {\n",
              "      if (!google.colab.kernel.accessAllowed) {\n",
              "        return;\n",
              "      }\n",
              "      const div = document.createElement('div');\n",
              "      const label = document.createElement('label');\n",
              "      label.textContent = `Downloading \"${filename}\": `;\n",
              "      div.appendChild(label);\n",
              "      const progress = document.createElement('progress');\n",
              "      progress.max = size;\n",
              "      div.appendChild(progress);\n",
              "      document.body.appendChild(div);\n",
              "\n",
              "      const buffers = [];\n",
              "      let downloaded = 0;\n",
              "\n",
              "      const channel = await google.colab.kernel.comms.open(id);\n",
              "      // Send a message to notify the kernel that we're ready.\n",
              "      channel.send({})\n",
              "\n",
              "      for await (const message of channel.messages) {\n",
              "        // Send a message to notify the kernel that we're ready.\n",
              "        channel.send({})\n",
              "        if (message.buffers) {\n",
              "          for (const buffer of message.buffers) {\n",
              "            buffers.push(buffer);\n",
              "            downloaded += buffer.byteLength;\n",
              "            progress.value = downloaded;\n",
              "          }\n",
              "        }\n",
              "      }\n",
              "      const blob = new Blob(buffers, {type: 'application/binary'});\n",
              "      const a = document.createElement('a');\n",
              "      a.href = window.URL.createObjectURL(blob);\n",
              "      a.download = filename;\n",
              "      div.appendChild(a);\n",
              "      a.click();\n",
              "      div.remove();\n",
              "    }\n",
              "  "
            ]
          },
          "metadata": {}
        },
        {
          "output_type": "display_data",
          "data": {
            "text/plain": [
              "<IPython.core.display.Javascript object>"
            ],
            "application/javascript": [
              "download(\"download_25ec23f2-6687-4737-90ed-879bad4096ca\", \"smote.png\", 30453)"
            ]
          },
          "metadata": {}
        }
      ]
    },
    {
      "cell_type": "code",
      "source": [
        "print(y_resampled.value_counts())"
      ],
      "metadata": {
        "colab": {
          "base_uri": "https://localhost:8080/"
        },
        "id": "-v2naNKjue5e",
        "outputId": "c4fef39b-732a-4f42-a8f3-4a21005ea46c"
      },
      "execution_count": null,
      "outputs": [
        {
          "output_type": "stream",
          "name": "stdout",
          "text": [
            "lesividad\n",
            "2    75708\n",
            "1    75708\n",
            "0    75708\n",
            "Name: count, dtype: int64\n"
          ]
        }
      ]
    },
    {
      "cell_type": "markdown",
      "source": [
        "### **Predicción con Random Forest**"
      ],
      "metadata": {
        "id": "uAWJFuUDeAQN"
      }
    },
    {
      "cell_type": "code",
      "source": [
        "# Importar librerías\n",
        "import pandas as pd\n",
        "from sklearn.model_selection import train_test_split\n",
        "from sklearn.ensemble import RandomForestClassifier\n",
        "from sklearn.metrics import classification_report, confusion_matrix\n",
        "# Dividir los datos en conjunto de entrenamiento y conjunto de prueba\n",
        "X_train, X_test, y_train, y_test = train_test_split(X_resampled, y_resampled, test_size=0.2, random_state=42)\n",
        "\n",
        "# Crear el modelo de Random Forest\n",
        "modelo_rf = RandomForestClassifier(n_estimators=100, random_state=42)\n",
        "\n",
        "# Entrenar el modelo\n",
        "modelo_rf.fit(X_train, y_train)\n",
        "\n",
        "# Realizar predicciones en el conjunto de prueba\n",
        "predicciones = modelo_rf.predict(X_test)\n",
        "\n",
        "\n",
        "print(\"\\nInforme de clasificación:\")\n",
        "print(classification_report(y_test, predicciones))\n",
        "\n",
        "import seaborn as sns\n",
        "import matplotlib.pyplot as plt\n",
        "from sklearn.metrics import confusion_matrix\n",
        "\n",
        "# Calcular la matriz de confusión\n",
        "cm = confusion_matrix(y_test, predicciones)\n",
        "\n",
        "# Crear un heatmap de seaborn para visualizar la matriz de confusión\n",
        "plt.figure(figsize=(8, 6))\n",
        "sns.heatmap(cm, annot=True, fmt=\"d\", cmap=\"Blues\", cbar=False)\n",
        "plt.title(\"Matriz de Confusión\")\n",
        "plt.xlabel(\"Etiquetas Predichas\")\n",
        "plt.ylabel(\"Etiquetas Verdaderas\")\n",
        "\n",
        "# Guardar la gráfica como imagen\n",
        "plt.savefig('matriz_confusion.png')\n",
        "plt.show()\n",
        "\n",
        "# Descargar la imagen en Google Colab\n",
        "from google.colab import files\n",
        "files.download('matriz_confusion.png')\n"
      ],
      "metadata": {
        "colab": {
          "base_uri": "https://localhost:8080/",
          "height": 781
        },
        "id": "Bwjqdem61FT8",
        "outputId": "1088f07e-372d-4ebd-f537-50670da89a36"
      },
      "execution_count": null,
      "outputs": [
        {
          "output_type": "stream",
          "name": "stdout",
          "text": [
            "\n",
            "Informe de clasificación:\n",
            "              precision    recall  f1-score   support\n",
            "\n",
            "           0       0.81      0.89      0.85     15093\n",
            "           1       0.73      0.76      0.75     15164\n",
            "           2       0.79      0.69      0.74     15168\n",
            "\n",
            "    accuracy                           0.78     45425\n",
            "   macro avg       0.78      0.78      0.78     45425\n",
            "weighted avg       0.78      0.78      0.78     45425\n",
            "\n"
          ]
        },
        {
          "output_type": "display_data",
          "data": {
            "text/plain": [
              "<Figure size 800x600 with 1 Axes>"
            ],
            "image/png": "[encoded data removed]"
          },
          "metadata": {}
        },
        {
          "output_type": "display_data",
          "data": {
            "text/plain": [
              "<IPython.core.display.Javascript object>"
            ],
            "application/javascript": [
              "\n",
              "    async function download(id, filename, size) {\n",
              "      if (!google.colab.kernel.accessAllowed) {\n",
              "        return;\n",
              "      }\n",
              "      const div = document.createElement('div');\n",
              "      const label = document.createElement('label');\n",
              "      label.textContent = `Downloading \"${filename}\": `;\n",
              "      div.appendChild(label);\n",
              "      const progress = document.createElement('progress');\n",
              "      progress.max = size;\n",
              "      div.appendChild(progress);\n",
              "      document.body.appendChild(div);\n",
              "\n",
              "      const buffers = [];\n",
              "      let downloaded = 0;\n",
              "\n",
              "      const channel = await google.colab.kernel.comms.open(id);\n",
              "      // Send a message to notify the kernel that we're ready.\n",
              "      channel.send({})\n",
              "\n",
              "      for await (const message of channel.messages) {\n",
              "        // Send a message to notify the kernel that we're ready.\n",
              "        channel.send({})\n",
              "        if (message.buffers) {\n",
              "          for (const buffer of message.buffers) {\n",
              "            buffers.push(buffer);\n",
              "            downloaded += buffer.byteLength;\n",
              "            progress.value = downloaded;\n",
              "          }\n",
              "        }\n",
              "      }\n",
              "      const blob = new Blob(buffers, {type: 'application/binary'});\n",
              "      const a = document.createElement('a');\n",
              "      a.href = window.URL.createObjectURL(blob);\n",
              "      a.download = filename;\n",
              "      div.appendChild(a);\n",
              "      a.click();\n",
              "      div.remove();\n",
              "    }\n",
              "  "
            ]
          },
          "metadata": {}
        },
        {
          "output_type": "display_data",
          "data": {
            "text/plain": [
              "<IPython.core.display.Javascript object>"
            ],
            "application/javascript": [
              "download(\"download_c0f990f0-5508-4232-acb1-e39b16796bbb\", \"matriz_confusion.png\", 22225)"
            ]
          },
          "metadata": {}
        }
      ]
    }
  ]
}